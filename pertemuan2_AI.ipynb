{
  "nbformat": 4,
  "nbformat_minor": 0,
  "metadata": {
    "colab": {
      "provenance": [],
      "authorship_tag": "ABX9TyMOowez3Lh3+Z9gbRKgRK91"
    },
    "kernelspec": {
      "name": "python3",
      "display_name": "Python 3"
    },
    "language_info": {
      "name": "python"
    }
  },
  "cells": [
    {
      "cell_type": "code",
      "execution_count": null,
      "metadata": {
        "colab": {
          "base_uri": "https://localhost:8080/"
        },
        "id": "khrZ1IB8PGsA",
        "outputId": "dea6b738-931c-4f52-81ce-ffc3b0f65cd6"
      },
      "outputs": [
        {
          "output_type": "stream",
          "name": "stdout",
          "text": [
            "Masukan awal: C\n",
            "Masukan Akhir: K\n",
            "['C', 'I', 'K']\n"
          ]
        }
      ],
      "source": [
        "#BFS\n",
        "peta = {'A':set(['B']),\n",
        "        'B':set(['C','A']),\n",
        "        'C':set(['H','B','I','D']),\n",
        "        'D':set(['C','E','H','F']),\n",
        "        'E':set(['D']),\n",
        "        'F':set(['D','G']),\n",
        "        'G':set(['F','H']),\n",
        "        'H':set(['L','C','G','D']),\n",
        "        'I':set(['C','J','K']),\n",
        "        'J':set(['I']),\n",
        "        'K':set(['L','I']),\n",
        "        'L':set(['K','H'])}\n",
        "\n",
        "\n",
        "def bfs_lintasan_terpendek(graph, mulai, goal):\n",
        "    # mengecek semua node\n",
        "    explored = []\n",
        "    # mengecek semua jalur\n",
        "    queue = [[mulai]]\n",
        "\n",
        "    # kembali ke jalur apabila awal adalah tujuan\n",
        "    if mulai == goal:\n",
        "        return \"Awal adalah Tujuan\"\n",
        "\n",
        "    # perulangan sampai dengan semua jalur telah diperiksa\n",
        "    while queue:\n",
        "        # masukkan antrian paling depan ke variabel jalur\n",
        "        jalur = queue.pop(0)\n",
        "        # ambil node terakhir dari jalur\n",
        "        node = jalur[-1]\n",
        "        # jika node tidak sama dengan tujuan, maka cek apakah node tidak ada di explored\n",
        "        if node not in explored:\n",
        "            neighbours = graph[node] #Memasukan semua isi graph node kedalam neighbours\n",
        "            # buat jalur baru dan\n",
        "            # masukan ke dalam queue\n",
        "            for neighbour in neighbours: #cek semua neighbout dari graph node\n",
        "                jalur_baru = list(jalur) #Memasukan isi dari vaariabel jalur ke variabel jalur baru\n",
        "                jalur_baru.append(neighbour) #update/tambah isi dari jalur baru dengan neighbour\n",
        "                queue.append(jalur_baru) #update/tambah isi dari queue dengan jalur baru\n",
        "                #cek neighbour apakah sama dengan tujuan, jika ya maka return jalur baru\n",
        "                if neighbour == goal:\n",
        "                    return jalur_baru # kembali ke jalur baru apa bila neighbour benar\n",
        "\n",
        "            explored.append(node) #update/tambah isi dari explored dengan node\n",
        "\n",
        "    # dalam kasus ini tidak ada node yg diinputkan\n",
        "    return \"Mohon maaf node yang kalian pilih tidak ada\"\n",
        "\n",
        "\n",
        "awal = input(\"Masukan awal: \")\n",
        "tujuan = input(\"Masukan Akhir: \")\n",
        "\n",
        "print(bfs_lintasan_terpendek(peta, awal, tujuan)) #contoh kasus dari C ke L"
      ]
    },
    {
      "cell_type": "code",
      "source": [
        "#dfs\n",
        "peta = {'A':set(['B']),\n",
        "        'B':set(['C','A']),\n",
        "        'C':set(['H','B','I','D']),\n",
        "        'D':set(['C','E','H','F']),\n",
        "        'E':set(['D']),\n",
        "        'F':set(['D','G']),\n",
        "        'G':set(['F','H']),\n",
        "        'H':set(['L','C','G','D']),\n",
        "        'I':set(['C','J','K']),\n",
        "        'J':set(['I']),\n",
        "        'K':set(['L','I']),\n",
        "        'L':set(['K','H'])}\n",
        "\n",
        "\n",
        "def dfs(graph, mulai, goal):\n",
        "    #mengecek semua node\n",
        "    explored = []\n",
        "    # mengecek semua jalur\n",
        "    stack = [[mulai]]\n",
        "\n",
        "    # kembali ke jalur apabila awal adalah tujuan\n",
        "    if mulai == goal:\n",
        "        return \"Awal adalah Tujuan\"\n",
        "\n",
        "    # perulangan sampai dengan semua jalur telah diperiksa\n",
        "    while stack:\n",
        "        # masukkan antrian paling belakang ke variabel jalur\n",
        "        jalur = stack.pop(-1)\n",
        "        # ambil node terakhir dari jalur\n",
        "        node = jalur[-1]\n",
        "        # jika node tidak sama dengan tujuan, maka cek apakah node tidak ada di explored\n",
        "        if node not in explored:\n",
        "            neighbours = graph[node] #Memasukan semua isi graph node kedalam neighbours\n",
        "            # buat jalur baru dan\n",
        "            # masukan ke dalam queue\n",
        "            for neighbour in neighbours: #Cek semua neighbour dari graph node\n",
        "                jalur_baru = list(jalur) #Memasukan isi dari varibel jalur ke variabel jalur baru\n",
        "                jalur_baru.append(neighbour) #update/tambah isi dari jalur baru dengan neighbour\n",
        "                stack.append(jalur_baru) #update/tambah isi dari stack dengan jalur baru\n",
        "                # cek neighbour apakah sama dengan tujuan, jika ya maka return jalur baru\n",
        "                if neighbour == goal:\n",
        "                    return jalur_baru # kembali ke jalur baru apa bila neighbour benar\n",
        "\n",
        "            explored.append(node) #update/tambah isi dari explored dengan node\n",
        "\n",
        "    # dalam kasus ini tidak ada node yg diinputkan\n",
        "    return \"Mohon maaf node yang kalian pilih tidak ada\"\n",
        "\n",
        "\n",
        "awal = input(\"Masukan awal: \")\n",
        "tujuan = input(\"Masukan Akhir: \")\n",
        "\n",
        "print(dfs(peta, awal, tujuan)) #contoh kasus dari C ke L"
      ],
      "metadata": {
        "colab": {
          "base_uri": "https://localhost:8080/"
        },
        "id": "aegoatZSPSlW",
        "outputId": "ff288b14-c2cf-44c9-a21a-38aad7f9ca4a"
      },
      "execution_count": null,
      "outputs": [
        {
          "output_type": "stream",
          "name": "stdout",
          "text": [
            "Masukan awal: C\n",
            "Masukan Akhir: K\n",
            "['C', 'D', 'F', 'G', 'H', 'L', 'K']\n"
          ]
        }
      ]
    }
  ]
}